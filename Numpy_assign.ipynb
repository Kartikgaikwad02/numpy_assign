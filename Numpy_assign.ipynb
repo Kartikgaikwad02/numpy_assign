{
  "nbformat": 4,
  "nbformat_minor": 0,
  "metadata": {
    "colab": {
      "provenance": []
    },
    "kernelspec": {
      "name": "python3",
      "display_name": "Python 3"
    },
    "language_info": {
      "name": "python"
    }
  },
  "cells": [
    {
      "cell_type": "code",
      "execution_count": null,
      "metadata": {
        "id": "QhfF3XZxG6RJ"
      },
      "outputs": [],
      "source": [
        "1. Explain the purpose and advantages of NumPy in scientific computing and data analysis. How does it\n",
        "enhance Python's capabilities for numerical operations?\n",
        "NumPy (Numerical Python) is a fundamental package in Python for scientific computing. Its primary purpose is to provide support for large, multi-dimensional arrays and matrices, along with a variety of mathematical functions to operate on these arrays. The advantages of using NumPy include:\n",
        "\n",
        "Performance: NumPy arrays are more efficient than Python lists for numerical operations, as they are implemented in C and use contiguous memory.\n",
        "Convenience: NumPy provides a wide range of optimized functions for mathematical and statistical computations (e.g., linear algebra, Fourier transforms).\n",
        "Interoperability: NumPy arrays integrate seamlessly with many other libraries (e.g., pandas, SciPy, Matplotlib).\n",
        "Vectorization: NumPy allows vectorized operations that eliminate the need for explicit loops, making the code more readable and concise.\n",
        "\n",
        "\n",
        "2. Compare and contrast np.mean() and np.average() functions in NumPy. When would you use one over the\n",
        "other?\n",
        "np.mean(): This function computes the arithmetic mean along the specified axis or of the entire array. It treats all elements equally and returns a simple mean.\n",
        "np.average(): This function is more flexible as it allows for weighted averages using the weights parameter. If no weights are provided, it behaves like np.mean().\n",
        "When to use one over the other:\n",
        "\n",
        "Use np.mean() when you want a simple arithmetic mean without any weights.\n",
        "Use np.average() when the data elements have varying importance, and you want to calculate a weighted average.\n",
        "\n",
        "\n",
        "3. Describe the methods for reversing a NumPy array along different axes. Provide examples for 1D and 2D\n",
        "arrays.\n",
        "In NumPy, reversing an array along different axes can be done using slicing or specialized functions. Below are methods for reversing 1D and 2D arrays:\n",
        "\n",
        "You can reverse a 1D NumPy array using slicing. This technique uses the syntax `[::-1]` to step through the array in reverse.\n",
        "import numpy as np\n",
        "\n",
        "arr = np.array([1, 2, 3, 4, 5])\n",
        "reversed_arr = arr[::-1]  # Reverses the entire array\n",
        "print(reversed_arr)\n",
        "```\n",
        "**Output**:\n",
        "```\n",
        "[5 4 3 2 1]\n",
        "```\n",
        "\n",
        "For 2D arrays, you can reverse along different axes—rows (vertically) or columns (horizontally).\n",
        "\n",
        "You can reverse a 2D array along its rows using the slicing method `[::-1]` on the first axis.\n",
        "```python\n",
        "arr = np.array([[1, 2, 3],\n",
        "                [4, 5, 6],\n",
        "                [7, 8, 9]])\n",
        "reversed_rows = arr[::-1]\n",
        "print(reversed_rows)\n",
        "```\n",
        "**Output**:\n",
        "```\n",
        "[[7 8 9]\n",
        " [4 5 6]\n",
        " [1 2 3]]\n",
        "```\n",
        "\n",
        "To reverse a 2D array along its columns, you use slicing on the second axis with `[:, ::-1]`.\n",
        "```python\n",
        "reversed_columns = arr[:, ::-1]\n",
        "print(reversed_columns)\n",
        "```\n",
        "**Output**:\n",
        "```\n",
        "[[3 2 1]\n",
        " [6 5 4]\n",
        " [9 8 7]]\n",
        "``\n",
        "\n",
        "4. How can you determine the data type of elements in a NumPy array? Discuss the importance of data types\n",
        "in memory management and performance.\n",
        "You can determine the data type of elements using the dtype attribute:\n",
        "\n",
        "arr = np.array([1, 2, 3])\n",
        "print(arr.dtype)  # Output: int64\n",
        "\n",
        "Importance of Data Types:\n",
        "\n",
        "Memory management: NumPy allows you to specify data types (e.g., int8, float32), helping optimize memory usage based on the precision required.\n",
        "Performance: Using an appropriate data type for the task can significantly improve performance, as smaller types use less memory and processing power.\n",
        "\n",
        "\n",
        "5. Define ndarrays in NumPy and explain their key features. How do they differ from standard Python lists?\n",
        "ndarray (n-dimensional array) is the primary data structure in NumPy for storing arrays of any dimension.\n",
        "Key features:\n",
        "Supports multi-dimensional arrays.\n",
        "Elements are stored in contiguous memory, allowing for fast access and manipulation.\n",
        "Efficient mathematical operations via vectorization.\n",
        "Supports broadcasting, enabling operations on arrays of different shapes.\n",
        "Differences from Python lists:\n",
        "\n",
        "Efficiency: ndarrays are more memory- and time-efficient than lists.\n",
        "Fixed type: All elements in an ndarray have the same data type, whereas Python lists can store mixed types.\n",
        "Multi-dimensional support: Python lists are inherently 1D (though they can be nested for multi-dimensional support), while ndarrays are designed for n-dimensional arrays.\n",
        "\n",
        "\n",
        "6. Analyze the performance benefits of NumPy arrays over Python lists for large-scale numerical operations ?\n",
        "Memory efficiency: NumPy arrays store elements in contiguous memory, leading to faster access compared to Python lists, which store references to objects.\n",
        "Vectorization: NumPy allows vectorized operations that eliminate the need for explicit loops, making the code faster and more concise.\n",
        "Reduced overhead: NumPy's operations are implemented in low-level languages like C and Fortran, minimizing the overhead of Python's dynamic typing.\n",
        "Optimized for large-scale operations: When dealing with large datasets, NumPy can handle operations like matrix multiplications and element-wise computations significantly faster than lists.\n",
        "\n",
        "\n",
        "7. Compare vstack() and hstack() functions in NumPy. Provide examples demonstrating their usage and\n",
        "output?\n",
        "\n",
        "In NumPy, vstack() and hstack() are used to stack arrays along specific dimensions. Here's a comparison of the two functions:\n",
        "\n",
        "1. vstack() (Vertical Stacking)\n",
        "Purpose: Stacks arrays vertically (along rows). This adds arrays as new rows, combining them in the vertical (row-wise) direction.\n",
        "Array Dimensions: All arrays must have the same number of columns (second dimension).\n",
        "Example:\n",
        "import numpy as np\n",
        "\n",
        "arr1 = np.array([1, 2, 3])\n",
        "arr2 = np.array([4, 5, 6])\n",
        "\n",
        "result = np.vstack((arr1, arr2))\n",
        "print(result)\n",
        "Output:\n",
        "\n",
        "[[1 2 3]\n",
        " [4 5 6]]\n",
        "\n",
        "2 .hstack() (Horizontal Stacking)\n",
        "Purpose: Stacks arrays horizontally (along columns). This adds arrays as new columns, combining them in the horizontal (column-wise) direction.\n",
        "Array Dimensions: All arrays must have the same number of rows (first dimension).\n",
        "Example:\n",
        "python\n",
        "Copy code\n",
        "arr1 = np.array([1, 2, 3])\n",
        "arr2 = np.array([4, 5, 6])\n",
        "\n",
        "result = np.hstack((arr1, arr2))\n",
        "print(result)\n",
        "Output:\n",
        "[1 2 3 4 5 6]\n",
        "\n",
        "8. Explain the differences between fliplr() and flipud() methods in NumPy, including their effects on various\n",
        "array dimensions?\n",
        "In NumPy, fliplr() and flipud() are methods used to flip arrays along different axes. Here's a detailed explanation of their differences and effects on various array dimensions:\n",
        "\n",
        "1. fliplr() (Flip Left-Right)\n",
        "Purpose: Flips an array left to right (i.e., reverses the order of columns).\n",
        "Effect: For 2D arrays, it reverses the order of elements in each row. For 1D arrays, it is equivalent to reversing the entire array.\n",
        "Example for 1D Array:\n",
        "import numpy as np\n",
        "\n",
        "arr1d = np.array([1, 2, 3, 4, 5])\n",
        "flipped1d = np.fliplr([arr1d])\n",
        "print(flipped1d)\n",
        "Output:\n",
        "[[5 4 3 2 1]]\n",
        "\n",
        "2. flipud() (Flip Up-Down)\n",
        "Purpose: Flips an array up to down (i.e., reverses the order of rows).\n",
        "Effect: For 2D arrays, it reverses the order of rows. For 1D arrays, it has no effect as there is no second axis to flip.\n",
        "Example for 1D Array:\n",
        "python\n",
        "Copy code\n",
        "arr1d = np.array([1, 2, 3, 4, 5])\n",
        "flipped1d = np.flipud([arr1d])\n",
        "print(flipped1d)\n",
        "Output:\n",
        "\n",
        "[[1 2 3 4 5]]\n",
        "\n",
        "9. Discuss the functionality of the array_split() method in NumPy. How does it handle uneven splits?\n",
        "The array_split() method in NumPy is used to split an array into multiple sub-arrays. Unlike split(), which requires the array to be split evenly, array_split() can handle uneven splits by distributing the remaining elements to smaller sub-arrays when the array cannot be divided evenly.\n",
        "\n",
        "Functionality of array_split()\n",
        "Parameters:\n",
        "array: The array to be split.\n",
        "indices_or_sections: This can be an integer specifying the number of equal-sized sub-arrays, or it can be a list/array specifying the indices where the array should be split.\n",
        "axis: The axis along which to split the array (default is 0, i.e., row-wise for 2D arrays).\n",
        "Handling Uneven Splits\n",
        "When the array cannot be split into equal parts, array_split() ensures that the extra elements are distributed among the first sub-arrays. This means that the first few sub-arrays will have one more element than the others.\n",
        "\n",
        "\n",
        "10. Explain the concepts of vectorization and broadcasting in NumPy. How do they contribute to efficient array\n",
        "operations?\n",
        "\n",
        "1. Vectorization\n",
        "Concept: Vectorization in NumPy refers to the ability to perform operations on entire arrays or matrices without the need for explicit loops. Instead of iterating through elements one by one, NumPy performs operations in a more efficient, optimized manner using low-level implementations.\n",
        "\n",
        "How it Works:\n",
        "\n",
        "Underlying Implementation: NumPy operations are implemented in C and Fortran, which are much faster than Python loops due to optimized memory handling and lower-level computations.\n",
        "Operations on Arrays: When you perform operations on NumPy arrays, they apply element-wise operations efficiently without the need for manual looping.\n",
        "Benefits:\n",
        "\n",
        "Performance: Vectorized operations are typically much faster than using Python loops because they utilize efficient, low-level implementations.\n",
        "Readability: Code is more concise and easier to read, as operations are applied to entire arrays or matrices in a single line.\n",
        "Optimization: NumPy's internal optimization reduces the overhead of Python's dynamic typing and loop control.\n",
        "\n",
        "2. Broadcasting\n",
        "Concept: Broadcasting is a powerful mechanism in NumPy that allows operations between arrays of different shapes. It automatically adjusts the dimensions of the arrays to make their shapes compatible for element-wise operations.\n",
        "\n",
        "How it Works:\n",
        "\n",
        "Rules for Broadcasting:\n",
        "Align Dimensions: Starting from the rightmost dimensions, the dimensions of the arrays are compared. Arrays are aligned by adding dimensions of size 1 where necessary.\n",
        "Shape Compatibility: Arrays are broadcasted to match each other's shapes if their dimensions are either equal or one of them is 1.\n",
        "Benefits:\n",
        "\n",
        "Flexibility: Broadcasting allows for operations between arrays of different shapes, reducing the need to manually reshape or expand arrays.\n",
        "Efficiency: It avoids the need to create large temporary arrays by performing operations on smaller arrays and broadcasting their results efficiently.\n"
      ]
    },
    {
      "cell_type": "markdown",
      "source": [
        "**Practical Question**"
      ],
      "metadata": {
        "id": "rG0jWKOFJ7uO"
      }
    },
    {
      "cell_type": "code",
      "source": [
        "import numpy as np\n",
        "import pandas as pd\n",
        "\n",
        "#1. Create a 3x3 NumPy array with random integers between 1 and 100. Then, interchange its rows and columns.\n",
        "array_3x3 = np.random.randint(1, 101, size=(3, 3))\n",
        "array_3x3\n",
        "\n",
        "transposed_array = np.transpose(array_3x3)\n",
        "transposed_array\n",
        "\n",
        "array_3x3 , transposed_array\n"
      ],
      "metadata": {
        "colab": {
          "base_uri": "https://localhost:8080/"
        },
        "id": "3hyxRTwlJ_sR",
        "outputId": "4f277bf9-4992-4d7c-900b-0a5683a1ce93"
      },
      "execution_count": 4,
      "outputs": [
        {
          "output_type": "execute_result",
          "data": {
            "text/plain": [
              "(array([[59, 27, 81],\n",
              "        [18, 20, 26],\n",
              "        [70,  1, 68]]),\n",
              " array([[59, 18, 70],\n",
              "        [27, 20,  1],\n",
              "        [81, 26, 68]]))"
            ]
          },
          "metadata": {},
          "execution_count": 4
        }
      ]
    },
    {
      "cell_type": "code",
      "source": [
        "#2. Generate a 1D NumPy array with 10 elements. Reshape it into a 2x5 array, then into a 5x2 array.\n",
        "import numpy as np\n",
        "\n",
        "array_1d = np.arange(10)\n",
        "array_1d\n",
        "\n",
        "array_2x5 = array_1d.reshape(2, 5)\n",
        "array_2x5\n",
        "\n",
        "array_1d , array_2x5"
      ],
      "metadata": {
        "colab": {
          "base_uri": "https://localhost:8080/"
        },
        "id": "23JupUnNK8UA",
        "outputId": "2f0c48da-9696-4e75-b2ef-e037548e0b6d"
      },
      "execution_count": 5,
      "outputs": [
        {
          "output_type": "execute_result",
          "data": {
            "text/plain": [
              "(array([0, 1, 2, 3, 4, 5, 6, 7, 8, 9]),\n",
              " array([[0, 1, 2, 3, 4],\n",
              "        [5, 6, 7, 8, 9]]))"
            ]
          },
          "metadata": {},
          "execution_count": 5
        }
      ]
    },
    {
      "cell_type": "code",
      "source": [
        "#3. Create a 4x4 NumPy array with random float values. Add a border of zeros around it, resulting in a 6x6 array.\n",
        "import numpy as np\n",
        "\n",
        "array_4x4 = np.random.rand(4, 4)\n",
        "array_4x4\n",
        "\n",
        "bordered_array = np.pad(array_4x4, pad_width=1, mode='constant', constant_values=0)\n",
        "bordered_array\n",
        "\n",
        "array_4x4 , bordered_array\n"
      ],
      "metadata": {
        "colab": {
          "base_uri": "https://localhost:8080/"
        },
        "id": "XxdF3Rt3LUbN",
        "outputId": "b8f07ef5-0312-4d54-ddaa-a710fffea8f2"
      },
      "execution_count": 6,
      "outputs": [
        {
          "output_type": "execute_result",
          "data": {
            "text/plain": [
              "(array([[0.23482667, 0.48486111, 0.58899206, 0.48402442],\n",
              "        [0.95174514, 0.924727  , 0.07137365, 0.32155141],\n",
              "        [0.32043066, 0.74507987, 0.2799497 , 0.5061515 ],\n",
              "        [0.83582102, 0.60850526, 0.64808985, 0.26722571]]),\n",
              " array([[0.        , 0.        , 0.        , 0.        , 0.        ,\n",
              "         0.        ],\n",
              "        [0.        , 0.23482667, 0.48486111, 0.58899206, 0.48402442,\n",
              "         0.        ],\n",
              "        [0.        , 0.95174514, 0.924727  , 0.07137365, 0.32155141,\n",
              "         0.        ],\n",
              "        [0.        , 0.32043066, 0.74507987, 0.2799497 , 0.5061515 ,\n",
              "         0.        ],\n",
              "        [0.        , 0.83582102, 0.60850526, 0.64808985, 0.26722571,\n",
              "         0.        ],\n",
              "        [0.        , 0.        , 0.        , 0.        , 0.        ,\n",
              "         0.        ]]))"
            ]
          },
          "metadata": {},
          "execution_count": 6
        }
      ]
    },
    {
      "cell_type": "code",
      "source": [
        "#4. Using NumPy, create an array of integers from 10 to 60 with a step of 5.\n",
        "import numpy as np\n",
        "\n",
        "array_integers = np.arange(10, 61, 5)\n",
        "array_integers\n",
        "\n"
      ],
      "metadata": {
        "colab": {
          "base_uri": "https://localhost:8080/"
        },
        "id": "_YOwkhI4LvAO",
        "outputId": "4fe0ecd7-9584-46c0-b0fb-05f770910dd2"
      },
      "execution_count": 7,
      "outputs": [
        {
          "output_type": "execute_result",
          "data": {
            "text/plain": [
              "array([10, 15, 20, 25, 30, 35, 40, 45, 50, 55, 60])"
            ]
          },
          "metadata": {},
          "execution_count": 7
        }
      ]
    },
    {
      "cell_type": "code",
      "source": [
        "#5 .Create a NumPy array of strings ['python', 'numpy', 'pandas']. Apply different case transformations(uppercase, lowercase, title case, etc.) to each element.\n",
        "import numpy as np\n",
        "\n",
        "array_strings = np.array(['python', 'numpy', 'pandas'])\n",
        "\n",
        "\n",
        "upper_case = np.char.upper(array_strings)\n",
        "lower_case = np.char.lower(array_strings)\n",
        "title_case = np.char.title(array_strings)\n",
        "\n",
        "print(\"Uppercase:\\n\", upper_case)\n",
        "print(\"Lowercase:\\n\", lower_case)\n",
        "print(\"Title Case:\\n\", title_case)\n"
      ],
      "metadata": {
        "colab": {
          "base_uri": "https://localhost:8080/"
        },
        "id": "lpqjF_mbL8eP",
        "outputId": "b5e67c00-842a-4d2e-e3a1-95818e2a1e3a"
      },
      "execution_count": 8,
      "outputs": [
        {
          "output_type": "stream",
          "name": "stdout",
          "text": [
            "Uppercase:\n",
            " ['PYTHON' 'NUMPY' 'PANDAS']\n",
            "Lowercase:\n",
            " ['python' 'numpy' 'pandas']\n",
            "Title Case:\n",
            " ['Python' 'Numpy' 'Pandas']\n"
          ]
        }
      ]
    },
    {
      "cell_type": "code",
      "source": [
        "#6 .Generate a NumPy array of words. Insert a space between each character of every word in the array.\n",
        "import numpy as np\n",
        "\n",
        "words = np.array(['hello', 'world'])\n",
        "\n",
        "spaced_words = np.char.join(' ', words)\n",
        "spaced_words\n"
      ],
      "metadata": {
        "colab": {
          "base_uri": "https://localhost:8080/"
        },
        "id": "Z51fbWcCMMhi",
        "outputId": "051c4a89-a44f-492f-9533-f8dc53537acc"
      },
      "execution_count": 9,
      "outputs": [
        {
          "output_type": "execute_result",
          "data": {
            "text/plain": [
              "array(['h e l l o', 'w o r l d'], dtype='<U9')"
            ]
          },
          "metadata": {},
          "execution_count": 9
        }
      ]
    },
    {
      "cell_type": "code",
      "source": [
        "#7 .Use NumPy to create a 5x5 identity matrix, then extract its diagonal elements.\n",
        "import numpy as np\n",
        "\n",
        "identity_matrix = np.eye(5)\n",
        "identity_matrix\n",
        "\n",
        "diagonal_elements = np.diag(identity_matrix)\n",
        "diagonal_elements\n",
        "\n",
        "identity_matrix , diagonal_elements"
      ],
      "metadata": {
        "colab": {
          "base_uri": "https://localhost:8080/"
        },
        "id": "w2yali_yMfKy",
        "outputId": "791072eb-e184-448a-a84d-092b963762d7"
      },
      "execution_count": 11,
      "outputs": [
        {
          "output_type": "execute_result",
          "data": {
            "text/plain": [
              "(array([[1., 0., 0., 0., 0.],\n",
              "        [0., 1., 0., 0., 0.],\n",
              "        [0., 0., 1., 0., 0.],\n",
              "        [0., 0., 0., 1., 0.],\n",
              "        [0., 0., 0., 0., 1.]]),\n",
              " array([1., 1., 1., 1., 1.]))"
            ]
          },
          "metadata": {},
          "execution_count": 11
        }
      ]
    },
    {
      "cell_type": "code",
      "source": [
        "#8. Create two 2D NumPy arrays and perform element-wise addition, subtraction, multiplication, and division.\n",
        "import numpy as np\n",
        "\n",
        "array1 = np.array([[1, 2], [3, 4]])\n",
        "array2 = np.array([[5, 6], [7, 8]])\n",
        "\n",
        "\n",
        "addition = array1 + array2\n",
        "subtraction = array1 - array2\n",
        "multiplication = array1 * array2\n",
        "division = array1 / array2\n",
        "\n",
        "print(\"Addition:\\n\", addition)\n",
        "print(\"Subtraction:\\n\", subtraction)\n",
        "print(\"Multiplication:\\n\", multiplication)\n",
        "print(\"Division:\\n\", division)\n"
      ],
      "metadata": {
        "colab": {
          "base_uri": "https://localhost:8080/"
        },
        "id": "wuiMGLoiM2Yw",
        "outputId": "09baeed0-04db-48fb-ab45-0f8c218b12f8"
      },
      "execution_count": 12,
      "outputs": [
        {
          "output_type": "stream",
          "name": "stdout",
          "text": [
            "Addition:\n",
            " [[ 6  8]\n",
            " [10 12]]\n",
            "Subtraction:\n",
            " [[-4 -4]\n",
            " [-4 -4]]\n",
            "Multiplication:\n",
            " [[ 5 12]\n",
            " [21 32]]\n",
            "Division:\n",
            " [[0.2        0.33333333]\n",
            " [0.42857143 0.5       ]]\n"
          ]
        }
      ]
    },
    {
      "cell_type": "code",
      "source": [
        "#9. Generate a NumPy array of 100 random integers between 0 and 1000. Find and display all prime numbers in this array.\n",
        "import numpy as np\n",
        "\n",
        "array_100 = np.random.randint(0, 1001, size=100)\n",
        "array_100"
      ],
      "metadata": {
        "colab": {
          "base_uri": "https://localhost:8080/"
        },
        "id": "B_ZdijhCM_97",
        "outputId": "91919dc4-0641-4065-b1c0-792a4bb92559"
      },
      "execution_count": 13,
      "outputs": [
        {
          "output_type": "execute_result",
          "data": {
            "text/plain": [
              "array([858, 373, 293, 386, 204, 976, 864, 398, 555, 700, 775, 120, 302,\n",
              "       130, 634, 198,  71,  96, 737, 286, 563, 730, 908, 705, 812, 615,\n",
              "       609, 205, 765, 293, 497, 995, 710, 465, 705, 644, 182, 133, 757,\n",
              "       154, 114, 278, 528, 790, 196, 292, 802,  44,  26, 189, 100,  18,\n",
              "       434, 626, 306, 107,  55, 941, 485, 272, 194,  88, 602, 523, 234,\n",
              "       434, 131, 927, 957,  61, 254, 501,  23, 165, 106, 437, 964, 973,\n",
              "       552, 821, 561,  98, 941, 800, 747, 495, 352, 308, 104, 938,  47,\n",
              "       747, 486, 580, 236, 523,  76, 717, 766, 812])"
            ]
          },
          "metadata": {},
          "execution_count": 13
        }
      ]
    },
    {
      "cell_type": "code",
      "source": [
        "#10. Create a NumPy array representing daily temperatures for a month. Calculate and display the weekly averages.\n",
        "import numpy as np\n",
        "\n",
        "# Create a NumPy array representing daily temperatures for a month (30 days)\n",
        "daily_temperatures = np.random.randint(0, 35, size=30)\n",
        "print(\"Daily Temperatures:\\n\", daily_temperatures)\n",
        "\n",
        "# Number of days and number of weeks\n",
        "num_days = len(daily_temperatures)\n",
        "num_weeks = num_days // 7\n",
        "\n",
        "# Truncate the array to fit full weeks\n",
        "truncated_temperatures = daily_temperatures[:num_weeks * 7]\n",
        "\n",
        "# Calculate weekly averages\n",
        "weekly_averages = truncated_temperatures.reshape(-1, 7).mean(axis=1)\n",
        "print(\"Weekly Averages:\\n\", weekly_averages)\n"
      ],
      "metadata": {
        "colab": {
          "base_uri": "https://localhost:8080/"
        },
        "id": "_YWp7DpyNPOC",
        "outputId": "98d55fcf-7804-443c-e83c-165456817090"
      },
      "execution_count": 19,
      "outputs": [
        {
          "output_type": "stream",
          "name": "stdout",
          "text": [
            "Daily Temperatures:\n",
            " [34 14 16  2  3 17 22 24 24 23  7 27 20 33 14 10 27 19 22 12 13 27  5 32\n",
            " 15 26 11 13 19 28]\n",
            "Weekly Averages:\n",
            " [15.42857143 22.57142857 16.71428571 18.42857143]\n"
          ]
        }
      ]
    }
  ]
}